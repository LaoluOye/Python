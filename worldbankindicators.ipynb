{
 "cells": [
  {
   "cell_type": "code",
   "execution_count": 1,
   "metadata": {
    "collapsed": true
   },
   "outputs": [],
   "source": [
    "import pandas as pd\n",
    "import numpy as np\n",
    "import random\n",
    "import matplotlib.pyplot as plt"
   ]
  },
  {
   "cell_type": "code",
   "execution_count": 2,
   "metadata": {},
   "outputs": [
    {
     "data": {
      "text/plain": [
       "(5656458, 6)"
      ]
     },
     "execution_count": 2,
     "metadata": {},
     "output_type": "execute_result"
    }
   ],
   "source": [
    "data = pd.read_csv('./world-development-indicators/Indicators.csv')\n",
    "data.shape"
   ]
  },
  {
   "cell_type": "code",
   "execution_count": 3,
   "metadata": {
    "collapsed": true
   },
   "outputs": [],
   "source": [
    "countries = data['CountryName'].unique().tolist()\n",
    "indicators = data['IndicatorName'].unique().tolist()"
   ]
  },
  {
   "cell_type": "code",
   "execution_count": 4,
   "metadata": {},
   "outputs": [
    {
     "data": {
      "text/html": [
       "<div>\n",
       "<style>\n",
       "    .dataframe thead tr:only-child th {\n",
       "        text-align: right;\n",
       "    }\n",
       "\n",
       "    .dataframe thead th {\n",
       "        text-align: left;\n",
       "    }\n",
       "\n",
       "    .dataframe tbody tr th {\n",
       "        vertical-align: top;\n",
       "    }\n",
       "</style>\n",
       "<table border=\"1\" class=\"dataframe\">\n",
       "  <thead>\n",
       "    <tr style=\"text-align: right;\">\n",
       "      <th></th>\n",
       "      <th>CountryName</th>\n",
       "      <th>CountryCode</th>\n",
       "      <th>IndicatorName</th>\n",
       "      <th>IndicatorCode</th>\n",
       "      <th>Year</th>\n",
       "      <th>Value</th>\n",
       "    </tr>\n",
       "  </thead>\n",
       "  <tbody>\n",
       "    <tr>\n",
       "      <th>0</th>\n",
       "      <td>Arab World</td>\n",
       "      <td>ARB</td>\n",
       "      <td>Adolescent fertility rate (births per 1,000 wo...</td>\n",
       "      <td>SP.ADO.TFRT</td>\n",
       "      <td>1960</td>\n",
       "      <td>133.560907</td>\n",
       "    </tr>\n",
       "    <tr>\n",
       "      <th>1</th>\n",
       "      <td>Arab World</td>\n",
       "      <td>ARB</td>\n",
       "      <td>Age dependency ratio (% of working-age populat...</td>\n",
       "      <td>SP.POP.DPND</td>\n",
       "      <td>1960</td>\n",
       "      <td>87.797601</td>\n",
       "    </tr>\n",
       "  </tbody>\n",
       "</table>\n",
       "</div>"
      ],
      "text/plain": [
       "  CountryName CountryCode                                      IndicatorName  \\\n",
       "0  Arab World         ARB  Adolescent fertility rate (births per 1,000 wo...   \n",
       "1  Arab World         ARB  Age dependency ratio (% of working-age populat...   \n",
       "\n",
       "  IndicatorCode  Year       Value  \n",
       "0   SP.ADO.TFRT  1960  133.560907  \n",
       "1   SP.POP.DPND  1960   87.797601  "
      ]
     },
     "execution_count": 4,
     "metadata": {},
     "output_type": "execute_result"
    }
   ],
   "source": [
    "data.head(2)"
   ]
  },
  {
   "cell_type": "code",
   "execution_count": 5,
   "metadata": {
    "collapsed": true
   },
   "outputs": [],
   "source": [
    "yearsFilter = [2010, 2011, 2012, 2013, 2014]\n"
   ]
  },
  {
   "cell_type": "code",
   "execution_count": 6,
   "metadata": {
    "collapsed": true
   },
   "outputs": [],
   "source": [
    "countryFilter = random.sample(countries, 2)# note this"
   ]
  },
  {
   "cell_type": "code",
   "execution_count": 7,
   "metadata": {},
   "outputs": [
    {
     "data": {
      "text/plain": [
       "['Least developed countries: UN classification', 'Lao PDR']"
      ]
     },
     "execution_count": 7,
     "metadata": {},
     "output_type": "execute_result"
    }
   ],
   "source": [
    "countryFilter"
   ]
  },
  {
   "cell_type": "code",
   "execution_count": 8,
   "metadata": {},
   "outputs": [
    {
     "data": {
      "text/plain": [
       "['Net bilateral aid flows from DAC donors, Belgium (current US$)']"
      ]
     },
     "execution_count": 8,
     "metadata": {},
     "output_type": "execute_result"
    }
   ],
   "source": [
    "indicatorsFilter = random.sample(indicators, 1)\n",
    "indicatorsFilter "
   ]
  },
  {
   "cell_type": "code",
   "execution_count": 9,
   "metadata": {
    "collapsed": true
   },
   "outputs": [],
   "source": [
    "filterMesh = (data['CountryName'] == countryFilter[0]) & (data['IndicatorName'].isin(indicatorsFilter)) & (data['Year'].isin(yearsFilter))"
   ]
  },
  {
   "cell_type": "code",
   "execution_count": 10,
   "metadata": {
    "collapsed": true
   },
   "outputs": [],
   "source": [
    "country1_data = data.loc[filterMesh]# note this"
   ]
  },
  {
   "cell_type": "code",
   "execution_count": 11,
   "metadata": {},
   "outputs": [
    {
     "data": {
      "text/html": [
       "<div>\n",
       "<style>\n",
       "    .dataframe thead tr:only-child th {\n",
       "        text-align: right;\n",
       "    }\n",
       "\n",
       "    .dataframe thead th {\n",
       "        text-align: left;\n",
       "    }\n",
       "\n",
       "    .dataframe tbody tr th {\n",
       "        vertical-align: top;\n",
       "    }\n",
       "</style>\n",
       "<table border=\"1\" class=\"dataframe\">\n",
       "  <thead>\n",
       "    <tr style=\"text-align: right;\">\n",
       "      <th></th>\n",
       "      <th>CountryName</th>\n",
       "      <th>CountryCode</th>\n",
       "      <th>IndicatorName</th>\n",
       "      <th>IndicatorCode</th>\n",
       "      <th>Year</th>\n",
       "      <th>Value</th>\n",
       "    </tr>\n",
       "  </thead>\n",
       "  <tbody>\n",
       "    <tr>\n",
       "      <th>4850155</th>\n",
       "      <td>Least developed countries: UN classification</td>\n",
       "      <td>LDC</td>\n",
       "      <td>Net bilateral aid flows from DAC donors, Belgi...</td>\n",
       "      <td>DC.DAC.BELL.CD</td>\n",
       "      <td>2010</td>\n",
       "      <td>1.083550e+09</td>\n",
       "    </tr>\n",
       "    <tr>\n",
       "      <th>5036563</th>\n",
       "      <td>Least developed countries: UN classification</td>\n",
       "      <td>LDC</td>\n",
       "      <td>Net bilateral aid flows from DAC donors, Belgi...</td>\n",
       "      <td>DC.DAC.BELL.CD</td>\n",
       "      <td>2011</td>\n",
       "      <td>7.234300e+08</td>\n",
       "    </tr>\n",
       "    <tr>\n",
       "      <th>5212673</th>\n",
       "      <td>Least developed countries: UN classification</td>\n",
       "      <td>LDC</td>\n",
       "      <td>Net bilateral aid flows from DAC donors, Belgi...</td>\n",
       "      <td>DC.DAC.BELL.CD</td>\n",
       "      <td>2012</td>\n",
       "      <td>4.443300e+08</td>\n",
       "    </tr>\n",
       "    <tr>\n",
       "      <th>5386901</th>\n",
       "      <td>Least developed countries: UN classification</td>\n",
       "      <td>LDC</td>\n",
       "      <td>Net bilateral aid flows from DAC donors, Belgi...</td>\n",
       "      <td>DC.DAC.BELL.CD</td>\n",
       "      <td>2013</td>\n",
       "      <td>4.958300e+08</td>\n",
       "    </tr>\n",
       "  </tbody>\n",
       "</table>\n",
       "</div>"
      ],
      "text/plain": [
       "                                          CountryName CountryCode  \\\n",
       "4850155  Least developed countries: UN classification         LDC   \n",
       "5036563  Least developed countries: UN classification         LDC   \n",
       "5212673  Least developed countries: UN classification         LDC   \n",
       "5386901  Least developed countries: UN classification         LDC   \n",
       "\n",
       "                                             IndicatorName   IndicatorCode  \\\n",
       "4850155  Net bilateral aid flows from DAC donors, Belgi...  DC.DAC.BELL.CD   \n",
       "5036563  Net bilateral aid flows from DAC donors, Belgi...  DC.DAC.BELL.CD   \n",
       "5212673  Net bilateral aid flows from DAC donors, Belgi...  DC.DAC.BELL.CD   \n",
       "5386901  Net bilateral aid flows from DAC donors, Belgi...  DC.DAC.BELL.CD   \n",
       "\n",
       "         Year         Value  \n",
       "4850155  2010  1.083550e+09  \n",
       "5036563  2011  7.234300e+08  \n",
       "5212673  2012  4.443300e+08  \n",
       "5386901  2013  4.958300e+08  "
      ]
     },
     "execution_count": 11,
     "metadata": {},
     "output_type": "execute_result"
    }
   ],
   "source": [
    "country1_data"
   ]
  },
  {
   "cell_type": "code",
   "execution_count": 12,
   "metadata": {},
   "outputs": [
    {
     "data": {
      "text/plain": [
       "4"
      ]
     },
     "execution_count": 12,
     "metadata": {},
     "output_type": "execute_result"
    }
   ],
   "source": [
    "len(country1_data)"
   ]
  },
  {
   "cell_type": "code",
   "execution_count": 13,
   "metadata": {
    "collapsed": true
   },
   "outputs": [],
   "source": [
    "filterMesh = (data['CountryName'] == countryFilter[1]) & (data['IndicatorName'].isin(indicatorsFilter)) & (data['Year'].isin(yearsFilter))"
   ]
  },
  {
   "cell_type": "code",
   "execution_count": 14,
   "metadata": {
    "collapsed": true
   },
   "outputs": [],
   "source": [
    "country2_data = data.loc[filterMesh]"
   ]
  },
  {
   "cell_type": "code",
   "execution_count": 15,
   "metadata": {},
   "outputs": [
    {
     "data": {
      "text/plain": [
       "4"
      ]
     },
     "execution_count": 15,
     "metadata": {},
     "output_type": "execute_result"
    }
   ],
   "source": [
    "len(country2_data)"
   ]
  },
  {
   "cell_type": "code",
   "execution_count": 16,
   "metadata": {
    "collapsed": true
   },
   "outputs": [],
   "source": [
    "filteredData1 = []\n",
    "filteredData2 = []\n"
   ]
  },
  {
   "cell_type": "code",
   "execution_count": 17,
   "metadata": {},
   "outputs": [
    {
     "name": "stdout",
     "output_type": "stream",
     "text": [
      "Skipping ... ['Age dependency ratio, young (% of working-age population)'] since very few rows (0) found\n",
      "Skipping ... ['Net ODA received (% of central government expense)'] since very few rows (0) found\n",
      "Skipping ... ['Other manufacturing (% of value added in manufacturing)'] since very few rows (0) found\n"
     ]
    }
   ],
   "source": [
    "'''\n",
    "Plot: \n",
    "countryFilter:    pick two countries, \n",
    "indicatorsFilter: pick an indicator, \n",
    "yearsFilter: plot for years in yearsFilter\n",
    "'''\n",
    "# problem - not all countries have all indicators so if you go to visualize, it'll have missing data.\n",
    "# randomly picking two indicators and countries, do these countries have valid data over those years.\n",
    "# brings up the discussion of missing data/ missing fields\n",
    "# until we find full data\n",
    "\n",
    "while(len(filteredData1) < len(yearsFilter)-1):\n",
    "    # pick new indicator\n",
    "    indicatorsFilter = random.sample(indicators, 1)\n",
    "    countryFilter    = random.sample(countries, 2)\n",
    "    # how many rows are there that have this country name, this indicator, and this year.  Mesh gives bool vector\n",
    "    filterMesh = (data['CountryName'] == countryFilter[0]) & (data['IndicatorName'].isin(indicatorsFilter)) & (data['Year'].isin(yearsFilter))\n",
    "    # which rows have this condition to be true?\n",
    "    filteredData1 = data.loc[filterMesh]\n",
    "    filteredData1 = filteredData1[['CountryName','IndicatorName','Year','Value']]\n",
    "\n",
    "    # need to print this only when our while condition is true\n",
    "    if(len(filteredData1) < len(yearsFilter)-1):\n",
    "        print('Skipping ... %s since very few rows (%d) found' % (indicatorsFilter, len(filteredData1)))\n"
   ]
  },
  {
   "cell_type": "code",
   "execution_count": 18,
   "metadata": {},
   "outputs": [
    {
     "data": {
      "text/plain": [
       "['Fixed broadband subscriptions']"
      ]
     },
     "execution_count": 18,
     "metadata": {},
     "output_type": "execute_result"
    }
   ],
   "source": [
    "indicatorsFilter"
   ]
  },
  {
   "cell_type": "code",
   "execution_count": 19,
   "metadata": {},
   "outputs": [
    {
     "data": {
      "text/plain": [
       "5"
      ]
     },
     "execution_count": 19,
     "metadata": {},
     "output_type": "execute_result"
    }
   ],
   "source": [
    "len(filteredData1)"
   ]
  },
  {
   "cell_type": "code",
   "execution_count": 20,
   "metadata": {},
   "outputs": [],
   "source": [
    "'''\n",
    "Country 2\n",
    "'''\n",
    "\n",
    "while(len(filteredData2) < len(filteredData1)-1):\n",
    "    filterMesh = (data['CountryName'] == countryFilter[1]) & (data['IndicatorName'].isin(indicatorsFilter)) & (data['Year'].isin(yearsFilter))\n",
    "    filteredData2 = data.loc[filterMesh]\n",
    "    filteredData2 = filteredData2[['CountryName','IndicatorName','Year','Value']]\n",
    "    #pick new indicator\n",
    "    old = countryFilter[1]\n",
    "    countryFilter[1]    = random.sample(countries, 1)[0]\n",
    "    \n",
    "    if(len(filteredData2) < len(filteredData1)-1):\n",
    "        print('Skipping ... %s, since very few rows (%d) found' % (old, len(filteredData2)))"
   ]
  },
  {
   "cell_type": "code",
   "execution_count": 21,
   "metadata": {
    "collapsed": true
   },
   "outputs": [],
   "source": [
    "if len(filteredData1) < len(filteredData2):\n",
    "    small = len(filteredData1)\n",
    "else:\n",
    "    small = len(filteredData2)\n",
    "    "
   ]
  },
  {
   "cell_type": "code",
   "execution_count": 22,
   "metadata": {
    "collapsed": true
   },
   "outputs": [],
   "source": [
    "filteredData1 = filteredData1[0:small]\n",
    "filteredData2 = filteredData2[0:small]"
   ]
  },
  {
   "cell_type": "code",
   "execution_count": 23,
   "metadata": {},
   "outputs": [
    {
     "data": {
      "text/html": [
       "<div>\n",
       "<style>\n",
       "    .dataframe thead tr:only-child th {\n",
       "        text-align: right;\n",
       "    }\n",
       "\n",
       "    .dataframe thead th {\n",
       "        text-align: left;\n",
       "    }\n",
       "\n",
       "    .dataframe tbody tr th {\n",
       "        vertical-align: top;\n",
       "    }\n",
       "</style>\n",
       "<table border=\"1\" class=\"dataframe\">\n",
       "  <thead>\n",
       "    <tr style=\"text-align: right;\">\n",
       "      <th></th>\n",
       "      <th>CountryName</th>\n",
       "      <th>IndicatorName</th>\n",
       "      <th>Year</th>\n",
       "      <th>Value</th>\n",
       "    </tr>\n",
       "  </thead>\n",
       "  <tbody>\n",
       "    <tr>\n",
       "      <th>5016801</th>\n",
       "      <td>United Arab Emirates</td>\n",
       "      <td>Fixed broadband subscriptions</td>\n",
       "      <td>2010</td>\n",
       "      <td>786818.0</td>\n",
       "    </tr>\n",
       "    <tr>\n",
       "      <th>5193552</th>\n",
       "      <td>United Arab Emirates</td>\n",
       "      <td>Fixed broadband subscriptions</td>\n",
       "      <td>2011</td>\n",
       "      <td>866968.0</td>\n",
       "    </tr>\n",
       "    <tr>\n",
       "      <th>5368683</th>\n",
       "      <td>United Arab Emirates</td>\n",
       "      <td>Fixed broadband subscriptions</td>\n",
       "      <td>2012</td>\n",
       "      <td>954988.0</td>\n",
       "    </tr>\n",
       "    <tr>\n",
       "      <th>5526257</th>\n",
       "      <td>United Arab Emirates</td>\n",
       "      <td>Fixed broadband subscriptions</td>\n",
       "      <td>2013</td>\n",
       "      <td>1041934.0</td>\n",
       "    </tr>\n",
       "    <tr>\n",
       "      <th>5636533</th>\n",
       "      <td>United Arab Emirates</td>\n",
       "      <td>Fixed broadband subscriptions</td>\n",
       "      <td>2014</td>\n",
       "      <td>1087035.0</td>\n",
       "    </tr>\n",
       "  </tbody>\n",
       "</table>\n",
       "</div>"
      ],
      "text/plain": [
       "                  CountryName                  IndicatorName  Year      Value\n",
       "5016801  United Arab Emirates  Fixed broadband subscriptions  2010   786818.0\n",
       "5193552  United Arab Emirates  Fixed broadband subscriptions  2011   866968.0\n",
       "5368683  United Arab Emirates  Fixed broadband subscriptions  2012   954988.0\n",
       "5526257  United Arab Emirates  Fixed broadband subscriptions  2013  1041934.0\n",
       "5636533  United Arab Emirates  Fixed broadband subscriptions  2014  1087035.0"
      ]
     },
     "execution_count": 23,
     "metadata": {},
     "output_type": "execute_result"
    }
   ],
   "source": [
    "filteredData1"
   ]
  },
  {
   "cell_type": "code",
   "execution_count": 24,
   "metadata": {},
   "outputs": [
    {
     "data": {
      "text/html": [
       "<div>\n",
       "<style>\n",
       "    .dataframe thead tr:only-child th {\n",
       "        text-align: right;\n",
       "    }\n",
       "\n",
       "    .dataframe thead th {\n",
       "        text-align: left;\n",
       "    }\n",
       "\n",
       "    .dataframe tbody tr th {\n",
       "        vertical-align: top;\n",
       "    }\n",
       "</style>\n",
       "<table border=\"1\" class=\"dataframe\">\n",
       "  <thead>\n",
       "    <tr style=\"text-align: right;\">\n",
       "      <th></th>\n",
       "      <th>CountryName</th>\n",
       "      <th>IndicatorName</th>\n",
       "      <th>Year</th>\n",
       "      <th>Value</th>\n",
       "    </tr>\n",
       "  </thead>\n",
       "  <tbody>\n",
       "    <tr>\n",
       "      <th>5008699</th>\n",
       "      <td>Timor-Leste</td>\n",
       "      <td>Fixed broadband subscriptions</td>\n",
       "      <td>2010</td>\n",
       "      <td>500.0</td>\n",
       "    </tr>\n",
       "    <tr>\n",
       "      <th>5186045</th>\n",
       "      <td>Timor-Leste</td>\n",
       "      <td>Fixed broadband subscriptions</td>\n",
       "      <td>2011</td>\n",
       "      <td>550.0</td>\n",
       "    </tr>\n",
       "    <tr>\n",
       "      <th>5361228</th>\n",
       "      <td>Timor-Leste</td>\n",
       "      <td>Fixed broadband subscriptions</td>\n",
       "      <td>2012</td>\n",
       "      <td>600.0</td>\n",
       "    </tr>\n",
       "    <tr>\n",
       "      <th>5519483</th>\n",
       "      <td>Timor-Leste</td>\n",
       "      <td>Fixed broadband subscriptions</td>\n",
       "      <td>2013</td>\n",
       "      <td>700.0</td>\n",
       "    </tr>\n",
       "    <tr>\n",
       "      <th>5631948</th>\n",
       "      <td>Timor-Leste</td>\n",
       "      <td>Fixed broadband subscriptions</td>\n",
       "      <td>2014</td>\n",
       "      <td>800.0</td>\n",
       "    </tr>\n",
       "  </tbody>\n",
       "</table>\n",
       "</div>"
      ],
      "text/plain": [
       "         CountryName                  IndicatorName  Year  Value\n",
       "5008699  Timor-Leste  Fixed broadband subscriptions  2010  500.0\n",
       "5186045  Timor-Leste  Fixed broadband subscriptions  2011  550.0\n",
       "5361228  Timor-Leste  Fixed broadband subscriptions  2012  600.0\n",
       "5519483  Timor-Leste  Fixed broadband subscriptions  2013  700.0\n",
       "5631948  Timor-Leste  Fixed broadband subscriptions  2014  800.0"
      ]
     },
     "execution_count": 24,
     "metadata": {},
     "output_type": "execute_result"
    }
   ],
   "source": [
    "filteredData2"
   ]
  },
  {
   "cell_type": "code",
   "execution_count": null,
   "metadata": {
    "collapsed": true
   },
   "outputs": [],
   "source": []
  },
  {
   "cell_type": "code",
   "execution_count": 25,
   "metadata": {},
   "outputs": [
    {
     "data": {
      "text/plain": [
       "<matplotlib.collections.PathCollection at 0x1d580116198>"
      ]
     },
     "execution_count": 25,
     "metadata": {},
     "output_type": "execute_result"
    },
    {
     "data": {
      "image/png": "[encoded data removed]",
      "text/plain": [
       "<matplotlib.figure.Figure at 0x1d5e5978208>"
      ]
     },
     "metadata": {},
     "output_type": "display_data"
    }
   ],
   "source": [
    "%matplotlib inline\n",
    "import matplotlib.pyplot as plt\n",
    "\n",
    "fig, axis = plt.subplots()\n",
    "\n",
    "axis.yaxis.grid(True)\n",
    "axis.set_title(indicatorsFilter[0], fontsize = 10)\n",
    "axis.set_xlabel(filteredData1['CountryName'].iloc[0], fontsize = 10)\n",
    "axis.set_ylabel(filteredData2['CountryName'].iloc[0], fontsize = 10)\n",
    "\n",
    "X = filteredData1['Value']\n",
    "Y = filteredData2['Value']\n",
    "\n",
    "axis.scatter(X,Y)"
   ]
  },
  {
   "cell_type": "code",
   "execution_count": 26,
   "metadata": {},
   "outputs": [
    {
     "data": {
      "image/png": "[encoded data removed]",
      "text/plain": [
       "<matplotlib.figure.Figure at 0x1d580116be0>"
      ]
     },
     "metadata": {},
     "output_type": "display_data"
    }
   ],
   "source": [
    "import matplotlib.pyplot as plt\n",
    "\n",
    "fig, ax = plt.subplots(figsize = (20,10))\n",
    "ax.set_ylim(min(0, filteredData1['Value'].min()), 2* filteredData1['Value'].max())\n",
    "ax.set_title('IndicatorName: '+ indicatorsFilter[0])\n",
    "ax.plot(filteredData1['Year'], filteredData1['Value'], 'r--', label = filteredData1['CountryName'].unique())\n",
    "\n",
    "#add the legend\n",
    "legend = plt.legend(loc = 'upper center',\n",
    "                   shadow = True, \n",
    "                   prop = {'weight': 'roman', 'size': 'xx-large'})\n",
    "\n",
    "#rectangle around the legend\n",
    "frame = legend.get_frame()\n",
    "frame.set_facecolor('.95')\n",
    "plt.show()"
   ]
  },
  {
   "cell_type": "code",
   "execution_count": 27,
   "metadata": {},
   "outputs": [
    {
     "data": {
      "image/png": "[encoded data removed]",
      "text/plain": [
       "<matplotlib.figure.Figure at 0x1d58035b080>"
      ]
     },
     "metadata": {},
     "output_type": "display_data"
    }
   ],
   "source": [
    "fig, ax = plt.subplots(figsize = (20,10))\n",
    "\n",
    "ax.set_ylim(min(0, filteredData2['Value'].min()), 2* filteredData2['Value'].max())\n",
    "\n",
    "ax.set_title('Indicator Name: '+ indicatorsFilter[0])\n",
    "ax.plot(filteredData2['Year'], filteredData2['Value'],\n",
    "       label = filteredData2['CountryName'].unique(),\n",
    "       color = \"purple\", lw = 1, ls = '-',\n",
    "       marker = 's', markersize = 20,\n",
    "       markerfacecolor=\"yellow\", markeredgewidth=4, markeredgecolor=\"blue\")\n",
    "\n",
    "legend = plt.legend(loc= 'upper left',\n",
    "                   shadow = True,\n",
    "                   prop = {'weight': 'roman', 'size': 'xx-large'})\n",
    "\n",
    "frame = legend.get_frame()\n",
    "frame.set_facecolor('.95')\n",
    "plt.show()"
   ]
  },
  {
   "cell_type": "code",
   "execution_count": 28,
   "metadata": {
    "collapsed": true
   },
   "outputs": [],
   "source": [
    "from mpl_toolkits.mplot3d import Axes3D\n",
    "from matplotlib.pyplot import cm\n"
   ]
  },
  {
   "cell_type": "code",
   "execution_count": 29,
   "metadata": {},
   "outputs": [
    {
     "ename": "NameError",
     "evalue": "name 'npnewaxis' is not defined",
     "output_type": "error",
     "traceback": [
      "\u001b[1;31m---------------------------------------------------------------------------\u001b[0m",
      "\u001b[1;31mNameError\u001b[0m                                 Traceback (most recent call last)",
      "\u001b[1;32m<ipython-input-29-1ce36ec07ef6>\u001b[0m in \u001b[0;36m<module>\u001b[1;34m()\u001b[0m\n\u001b[0;32m      5\u001b[0m \u001b[0marray_rad\u001b[0m \u001b[1;33m=\u001b[0m \u001b[0mnp\u001b[0m\u001b[1;33m.\u001b[0m\u001b[0mlinspace\u001b[0m\u001b[1;33m(\u001b[0m\u001b[1;36m0.125\u001b[0m\u001b[1;33m,\u001b[0m \u001b[1;36m1.0\u001b[0m\u001b[1;33m,\u001b[0m \u001b[0mcountof_radii\u001b[0m\u001b[1;33m)\u001b[0m\u001b[1;33m\u001b[0m\u001b[0m\n\u001b[0;32m      6\u001b[0m \u001b[0marray_ang\u001b[0m \u001b[1;33m=\u001b[0m \u001b[0mnp\u001b[0m\u001b[1;33m.\u001b[0m\u001b[0mlinspace\u001b[0m\u001b[1;33m(\u001b[0m\u001b[1;36m0\u001b[0m\u001b[1;33m,\u001b[0m \u001b[1;36m2\u001b[0m\u001b[1;33m*\u001b[0m\u001b[0mnp\u001b[0m\u001b[1;33m.\u001b[0m\u001b[0mpi\u001b[0m\u001b[1;33m,\u001b[0m \u001b[0mcountof_angles\u001b[0m\u001b[1;33m,\u001b[0m \u001b[0mendpoint\u001b[0m \u001b[1;33m=\u001b[0m \u001b[1;32mFalse\u001b[0m\u001b[1;33m)\u001b[0m\u001b[1;33m\u001b[0m\u001b[0m\n\u001b[1;32m----> 7\u001b[1;33m \u001b[0marray_ang\u001b[0m \u001b[1;33m=\u001b[0m \u001b[0mnp\u001b[0m\u001b[1;33m.\u001b[0m\u001b[0mrepeat\u001b[0m\u001b[1;33m(\u001b[0m\u001b[0marray_ang\u001b[0m\u001b[1;33m[\u001b[0m\u001b[1;33m...\u001b[0m\u001b[1;33m,\u001b[0m \u001b[0mnpnewaxis\u001b[0m\u001b[1;33m]\u001b[0m\u001b[1;33m,\u001b[0m \u001b[0mcountof_radii\u001b[0m\u001b[1;33m,\u001b[0m \u001b[0maxis\u001b[0m \u001b[1;33m=\u001b[0m \u001b[1;36m1\u001b[0m\u001b[1;33m)\u001b[0m\u001b[1;33m\u001b[0m\u001b[0m\n\u001b[0m\u001b[0;32m      8\u001b[0m \u001b[1;33m\u001b[0m\u001b[0m\n\u001b[0;32m      9\u001b[0m \u001b[0mx\u001b[0m \u001b[1;33m=\u001b[0m \u001b[0mnp\u001b[0m\u001b[1;33m.\u001b[0m\u001b[0mappend\u001b[0m\u001b[1;33m(\u001b[0m\u001b[1;36m0\u001b[0m\u001b[1;33m,\u001b[0m \u001b[1;33m(\u001b[0m\u001b[0marray_rad\u001b[0m\u001b[1;33m*\u001b[0m \u001b[0mnp\u001b[0m\u001b[1;33m.\u001b[0m\u001b[0mcos\u001b[0m\u001b[1;33m(\u001b[0m\u001b[0marray_ang\u001b[0m\u001b[1;33m)\u001b[0m\u001b[1;33m)\u001b[0m\u001b[1;33m.\u001b[0m\u001b[0mflatten\u001b[0m\u001b[1;33m(\u001b[0m\u001b[1;33m)\u001b[0m\u001b[1;33m)\u001b[0m\u001b[1;33m\u001b[0m\u001b[0m\n",
      "\u001b[1;31mNameError\u001b[0m: name 'npnewaxis' is not defined"
     ]
    }
   ],
   "source": [
    "countof_angles = 36\n",
    "countof_radii = 8\n",
    "\n",
    "#array - radii\n",
    "array_rad = np.linspace(0.125, 1.0, countof_radii)\n",
    "array_ang = np.linspace(0, 2*np.pi, countof_angles, endpoint = False)\n",
    "array_ang = np.repeat(array_ang[..., npnewaxis], countof_radii, axis = 1)\n",
    "\n",
    "x = np.append(0, (array_rad* np.cos(array_ang)).flatten())\n",
    "y = np.append(0, (array_rad* np.sin(array_and)).flatten())"
   ]
  },
  {
   "cell_type": "code",
   "execution_count": null,
   "metadata": {
    "collapsed": true
   },
   "outputs": [],
   "source": []
  },
  {
   "cell_type": "code",
   "execution_count": null,
   "metadata": {
    "collapsed": true
   },
   "outputs": [],
   "source": []
  }
 ],
 "metadata": {
  "kernelspec": {
   "display_name": "Python 3",
   "language": "python",
   "name": "python3"
  },
  "language_info": {
   "codemirror_mode": {
    "name": "ipython",
    "version": 3
   },
   "file_extension": ".py",
   "mimetype": "text/x-python",
   "name": "python",
   "nbconvert_exporter": "python",
   "pygments_lexer": "ipython3",
   "version": "3.7.4"
  }
 },
 "nbformat": 4,
 "nbformat_minor": 2
}
