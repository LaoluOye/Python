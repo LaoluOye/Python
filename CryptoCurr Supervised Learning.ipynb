{
 "cells": [
  {
   "cell_type": "markdown",
   "metadata": {},
   "source": [
    "# Introduction\n",
    "\n",
    "\n",
    "### It must be stressed that the ideas contained in this notebook have not gone through rigorous testing and validation. This work was done in a couple of hours. I will not trade it as it is and I do not advise the reader to do so either. There has been some overfitting and bias implicit in the development process. This does not serve as investment advice but as an explorationof a possible opportunity. Enjoy!\n",
    "\n",
    "\n",
    "In this notebook, I analyse the time series properties of the Litecoin crypto-currency and then proceed to building a predictive model based on my discoveries. I test the efficacy of the predicitve power with a naive trading strategy. I then proceed to improve on this model by adding additional the returns of other crypto-currencies to build a classification based predictive model. I then test this improved model with a similar naive strategy\n",
    "\n",
    "This notebook is largely of my own creation but consists of code from: \n",
    "\n",
    "QuantAtRisk:\n",
    "(http://www.quantatrisk.com/2017/03/31/cryptocurrency-portfolio-correlation-pca-python/) for web scraping crypto-currency data,\n",
    "\n",
    "Quantopian Lecture Series:\n",
    "(https://www.quantopian.com/research/notebooks/Cloned%20from%20%22Autocorrelation%20and%20AR%20Models%22.ipynb) for ACF and PACF correlogram\n",
    "\n",
    "Machine Learning Mastery:\n",
    "(https://machinelearningmastery.com/arima-for-time-series-forecasting-with-python/) for ARMA model implementations.\n",
    "\n",
    "\n",
    "\n",
    "## Retrieving Crypto-Currency data \n",
    "In this part of the notebook pricing data for 21 crypto currencies (including litecoin) are retrieved from cryptocompare using the BeautifulSoup web scraping module."
   ]
  },
  {
   "cell_type": "code",
   "execution_count": 1,
   "metadata": {
    "collapsed": true
   },
   "outputs": [],
   "source": [
    "import numpy as np\n",
    "import pandas as pd\n",
    "from scipy import stats\n",
    "from matplotlib import pyplot as plt\n",
    "from matplotlib.ticker import MaxNLocator\n",
    "from datetime import datetime\n",
    "import json\n",
    "from bs4 import BeautifulSoup\n",
    "import requests\n",
    " \n",
    "# define some custom colours\n",
    "grey = .6, .6, .6\n",
    " \n",
    "useless = 1  #ignore this\n",
    "def timestamp2date(timestamp):\n",
    "    # function converts a Unix timestamp into Gregorian date\n",
    "    return datetime.fromtimestamp(int(timestamp)).strftime('%Y-%m-%d')\n",
    " \n",
    "def date2timestamp(date):\n",
    "    # function coverts Gregorian date in a given format to timestamp\n",
    "    return datetime.strptime(date_today, '%Y-%m-%d').timestamp()\n",
    " \n",
    "def fetchCryptoClose(fsym, tsym):\n",
    "    # function fetches the close-price time-series from cryptocompare.com\n",
    "    # it may ignore USDT coin (due to near-zero pricing)\n",
    "    # daily sampled\n",
    "    cols = ['date', 'timestamp', fsym]\n",
    "    lst = ['time', 'open', 'high', 'low', 'close']\n",
    "    timestamp_today = datetime.today().timestamp()\n",
    "    curr_timestamp = timestamp_today\n",
    " \n",
    "    for j in range(2):\n",
    "        df = pd.DataFrame(columns=cols)\n",
    "        url = \"https://min-api.cryptocompare.com/data/histoday?fsym=\" + fsym + \\\n",
    "              \"&tsym=\" + tsym + \"&toTs=\" + str(int(curr_timestamp)) + \"&limit=2000\"\n",
    "        response = requests.get(url)\n",
    "        soup = BeautifulSoup(response.content, \"html.parser\")\n",
    "        dic = json.loads(soup.prettify())\n",
    "        for i in range(1, 2001):\n",
    "            tmp = []\n",
    "            for e in enumerate(lst):\n",
    "                x = e[0]\n",
    "                y = dic['Data'][i][e[1]]\n",
    "                if(x == 0):\n",
    "                    tmp.append(str(timestamp2date(y)))\n",
    "                tmp.append(y)\n",
    "            if(np.sum(tmp[-4::]) > 0):  # remove for USDT\n",
    "                tmp = np.array(tmp)\n",
    "                tmp = tmp[[0,1,4]]  # filter solely for close prices\n",
    "                df.loc[len(df)] = np.array(tmp)\n",
    "        # ensure a correct date format\n",
    "        df.index = pd.to_datetime(df.date, format=\"%Y-%m-%d\")\n",
    "        df.drop('date', axis=1, inplace=True)\n",
    "        curr_timestamp = int(df.ix[0][0])\n",
    "        if(j == 0):\n",
    "            df0 = df.copy()\n",
    "        else:\n",
    "            data = pd.concat([df, df0], axis=0)\n",
    "    data.drop(\"timestamp\", axis=1, inplace=True)\n",
    " \n",
    "    return data  # DataFrame"
   ]
  },
  {
   "cell_type": "markdown",
   "metadata": {},
   "source": [
    "This code block stores the retrieved data in a HDF5 file and then reads it into a pandas dataframe."
   ]
  },
  {
   "cell_type": "code",
   "execution_count": 155,
   "metadata": {},
   "outputs": [
    {
     "name": "stdout",
     "output_type": "stream",
     "text": [
      "0 BTC\n"
     ]
    },
    {
     "name": "stderr",
     "output_type": "stream",
     "text": [
      "C:\\Users\\Olaoluwapo\\Anaconda3\\lib\\site-packages\\ipykernel_launcher.py:53: DeprecationWarning: \n",
      ".ix is deprecated. Please use\n",
      ".loc for label based indexing or\n",
      ".iloc for positional indexing\n",
      "\n",
      "See the documentation here:\n",
      "http://pandas.pydata.org/pandas-docs/stable/indexing.html#ix-indexer-is-deprecated\n"
     ]
    },
    {
     "name": "stdout",
     "output_type": "stream",
     "text": [
      "1 ETH\n",
      "2 DASH\n",
      "3 XMR\n",
      "4 XRP\n",
      "5 LTC\n",
      "6 MAID\n",
      "7 ZEC\n",
      "8 FCT\n",
      "9 DGD\n",
      "10 DCR\n",
      "11 DOGE\n",
      "2971\n"
     ]
    }
   ],
   "source": [
    "# N-Cryptocurrency Portfolio (tickers)\n",
    "fsym = ['BTC', 'ETH', 'DASH', 'XMR', 'XRP', 'LTC', \n",
    "        'MAID', 'FCT', 'DGD', \n",
    "         'DCR', 'DOGE']\n",
    "# vs. \n",
    "tsym = 'USD'\n",
    "\n",
    "for e in enumerate(fsym):\n",
    "    print(e[0], e[1])\n",
    "    if(e[0] == 0):\n",
    "        try:\n",
    "            data = fetchCryptoClose(e[1], tsym)\n",
    "        except:\n",
    "            pass\n",
    "    else:\n",
    "        try:\n",
    "            data = data.join(fetchCryptoClose(e[1], tsym))\n",
    "        except:\n",
    "            pass\n",
    " \n",
    "useless = 1 #ignore this\n",
    "data = data.astype(float)  # ensure values to be floats\n",
    " \n",
    "# save portfolio to a file (HDF5 file format)\n",
    "store = pd.HDFStore('portfolio.h5')\n",
    "store['data'] = data\n",
    "store.close()\n",
    " \n",
    "# read in your portfolio from a file\n",
    "df = pd.read_hdf('portfolio.h5', 'data')\n",
    "print(len(df))"
   ]
  },
  {
   "cell_type": "code",
   "execution_count": 241,
   "metadata": {},
   "outputs": [
    {
     "data": {
      "text/html": [
       "<div>\n",
       "<style>\n",
       "    .dataframe thead tr:only-child th {\n",
       "        text-align: right;\n",
       "    }\n",
       "\n",
       "    .dataframe thead th {\n",
       "        text-align: left;\n",
       "    }\n",
       "\n",
       "    .dataframe tbody tr th {\n",
       "        vertical-align: top;\n",
       "    }\n",
       "</style>\n",
       "<table border=\"1\" class=\"dataframe\">\n",
       "  <thead>\n",
       "    <tr style=\"text-align: right;\">\n",
       "      <th></th>\n",
       "      <th>BTC</th>\n",
       "      <th>ETH</th>\n",
       "      <th>DASH</th>\n",
       "      <th>XMR</th>\n",
       "      <th>XRP</th>\n",
       "      <th>LTC</th>\n",
       "      <th>MAID</th>\n",
       "      <th>FCT</th>\n",
       "      <th>DGD</th>\n",
       "      <th>DCR</th>\n",
       "      <th>DOGE</th>\n",
       "    </tr>\n",
       "    <tr>\n",
       "      <th>date</th>\n",
       "      <th></th>\n",
       "      <th></th>\n",
       "      <th></th>\n",
       "      <th></th>\n",
       "      <th></th>\n",
       "      <th></th>\n",
       "      <th></th>\n",
       "      <th></th>\n",
       "      <th></th>\n",
       "      <th></th>\n",
       "      <th></th>\n",
       "    </tr>\n",
       "  </thead>\n",
       "  <tbody>\n",
       "    <tr>\n",
       "      <th>2015-10-05</th>\n",
       "      <td>236.41</td>\n",
       "      <td>0.6078</td>\n",
       "      <td>2.15</td>\n",
       "      <td>0.3892</td>\n",
       "      <td>0.00444</td>\n",
       "      <td>2.94</td>\n",
       "      <td>0.01845</td>\n",
       "      <td>0.1441</td>\n",
       "      <td>0.001057</td>\n",
       "      <td>0.03242</td>\n",
       "      <td>0.00012</td>\n",
       "    </tr>\n",
       "    <tr>\n",
       "      <th>2015-10-05</th>\n",
       "      <td>236.41</td>\n",
       "      <td>0.6078</td>\n",
       "      <td>2.15</td>\n",
       "      <td>0.3892</td>\n",
       "      <td>0.00444</td>\n",
       "      <td>2.94</td>\n",
       "      <td>0.01845</td>\n",
       "      <td>0.1441</td>\n",
       "      <td>0.001057</td>\n",
       "      <td>0.03242</td>\n",
       "      <td>0.00012</td>\n",
       "    </tr>\n",
       "    <tr>\n",
       "      <th>2015-10-06</th>\n",
       "      <td>239.36</td>\n",
       "      <td>0.6091</td>\n",
       "      <td>2.38</td>\n",
       "      <td>0.3892</td>\n",
       "      <td>0.00570</td>\n",
       "      <td>2.98</td>\n",
       "      <td>0.01890</td>\n",
       "      <td>0.1625</td>\n",
       "      <td>0.001083</td>\n",
       "      <td>0.03323</td>\n",
       "      <td>0.00012</td>\n",
       "    </tr>\n",
       "    <tr>\n",
       "      <th>2015-10-07</th>\n",
       "      <td>241.65</td>\n",
       "      <td>0.6000</td>\n",
       "      <td>2.40</td>\n",
       "      <td>0.3917</td>\n",
       "      <td>0.00550</td>\n",
       "      <td>3.01</td>\n",
       "      <td>0.01883</td>\n",
       "      <td>0.1317</td>\n",
       "      <td>0.001069</td>\n",
       "      <td>0.03280</td>\n",
       "      <td>0.00012</td>\n",
       "    </tr>\n",
       "    <tr>\n",
       "      <th>2015-10-08</th>\n",
       "      <td>241.57</td>\n",
       "      <td>0.6000</td>\n",
       "      <td>2.39</td>\n",
       "      <td>0.3785</td>\n",
       "      <td>0.00510</td>\n",
       "      <td>3.00</td>\n",
       "      <td>0.01899</td>\n",
       "      <td>0.1318</td>\n",
       "      <td>0.001067</td>\n",
       "      <td>0.04847</td>\n",
       "      <td>0.00012</td>\n",
       "    </tr>\n",
       "  </tbody>\n",
       "</table>\n",
       "</div>"
      ],
      "text/plain": [
       "               BTC     ETH  DASH     XMR      XRP   LTC     MAID     FCT  \\\n",
       "date                                                                       \n",
       "2015-10-05  236.41  0.6078  2.15  0.3892  0.00444  2.94  0.01845  0.1441   \n",
       "2015-10-05  236.41  0.6078  2.15  0.3892  0.00444  2.94  0.01845  0.1441   \n",
       "2015-10-06  239.36  0.6091  2.38  0.3892  0.00570  2.98  0.01890  0.1625   \n",
       "2015-10-07  241.65  0.6000  2.40  0.3917  0.00550  3.01  0.01883  0.1317   \n",
       "2015-10-08  241.57  0.6000  2.39  0.3785  0.00510  3.00  0.01899  0.1318   \n",
       "\n",
       "                 DGD      DCR     DOGE  \n",
       "date                                    \n",
       "2015-10-05  0.001057  0.03242  0.00012  \n",
       "2015-10-05  0.001057  0.03242  0.00012  \n",
       "2015-10-06  0.001083  0.03323  0.00012  \n",
       "2015-10-07  0.001069  0.03280  0.00012  \n",
       "2015-10-08  0.001067  0.04847  0.00012  "
      ]
     },
     "execution_count": 241,
     "metadata": {},
     "output_type": "execute_result"
    }
   ],
   "source": [
    "df = df[['BTC', 'ETH', 'DASH', 'XMR', 'XRP', 'LTC', \n",
    "        'MAID', 'FCT', 'DGD', \n",
    "         'DCR', 'DOGE']]\n",
    "df = df[:]\n",
    "df2.head()"
   ]
  },
  {
   "cell_type": "markdown",
   "metadata": {},
   "source": [
    "In this code block, the dataframe containing crypt currency pricing data is purged of all NaN values to prevent excessive data cleaning and filling of missing data. This is a trade-off between sample size and accuracy. It is also less stressful."
   ]
  },
  {
   "cell_type": "code",
   "execution_count": 167,
   "metadata": {},
   "outputs": [
    {
     "data": {
      "text/plain": [
       "(1051,)"
      ]
     },
     "execution_count": 167,
     "metadata": {},
     "output_type": "execute_result"
    }
   ],
   "source": [
    "from statsmodels.tsa.arima_model import ARIMA\n",
    "from statsmodels.tsa.arima_model import ARMA\n",
    "from statsmodels.tsa.stattools import acf, pacf\n",
    "from pandas import datetime\n",
    "import matplotlib.pyplot as plt\n",
    "from sklearn.metrics import mean_squared_error\n",
    "%matplotlib inline\n",
    "\n",
    "df2 = df.dropna()\n",
    "X = df2['LTC'][:]#resample('W').last().dropna()\n",
    "X.shape"
   ]
  },
  {
   "cell_type": "markdown",
   "metadata": {},
   "source": [
    "This code block is used to calculate the autocorrelation and partial autocorrelation coefficients for lag periods from 1 to 20. These will be used to determine if the time series follows an Autoregressive (AR) or a Moving Average (MA) process."
   ]
  },
  {
   "cell_type": "code",
   "execution_count": 96,
   "metadata": {},
   "outputs": [
    {
     "name": "stdout",
     "output_type": "stream",
     "text": [
      "Autocorrelations:\n",
      "[ 1.          0.98643223  0.97576824  0.96373745  0.95455018  0.94415277\n",
      "  0.93420471  0.92243258  0.91010804  0.89649399  0.88660991  0.8776913\n",
      "  0.86708928  0.85714337  0.84794497  0.83936711  0.83008909  0.8223325\n",
      "  0.81180129  0.80344914  0.79557535]\n",
      "\n",
      "Partial Autocorrelations:\n",
      "[ 1.          0.98807903  0.11525465 -0.04995553  0.10354084 -0.0292361\n",
      " -0.00527915 -0.06769743 -0.05596774 -0.06446704  0.13198766  0.07274965\n",
      " -0.08974139  0.04070613  0.05107852  0.01584496 -0.03947435  0.0436626\n",
      " -0.12829466  0.07552817  0.08307508]\n"
     ]
    }
   ],
   "source": [
    "# We'll choose 40 lags. This is a bit arbitrary, but you want to include all the lags you think might\n",
    "# feasibly impact the current value.\n",
    "nlags = 20\n",
    "# Note, this will produce nlags + 1 values, as we include the autocorrelation of\n",
    "# X[-1] with X[-1], which is trivially 1.\n",
    "# The reason this is done is because that is the 0th spot in the array and corresponds\n",
    "# to the 0th lag of X[(-1)-0].\n",
    "X_acf = acf(X, nlags=nlags)\n",
    "print('Autocorrelations:\\n' + str(X_acf) + '\\n')\n",
    "X_pacf = pacf(X, nlags=nlags)\n",
    "print('Partial Autocorrelations:\\n' + str(X_pacf))"
   ]
  },
  {
   "cell_type": "markdown",
   "metadata": {},
   "source": [
    "Now that the autocorrelation coefficients have been discovered. Correlograms can be plotted to present the findings graphically.\n",
    "Confidence intervals have also been plotted to prevent statistically insignificant autocorrelations from being perceived as relevant"
   ]
  },
  {
   "cell_type": "code",
   "execution_count": 97,
   "metadata": {},
   "outputs": [
    {
     "data": {
      "image/png": "[encoded data removed]",
      "text/plain": [
       "<matplotlib.figure.Figure at 0x2b0afa05438>"
      ]
     },
     "metadata": {},
     "output_type": "display_data"
    },
    {
     "data": {
      "image/png": "[encoded data removed]",
      "text/plain": [
       "<matplotlib.figure.Figure at 0x2b0aef86a58>"
      ]
     },
     "metadata": {},
     "output_type": "display_data"
    }
   ],
   "source": [
    "def plot_acf(X_acf, X_acf_confs, title='ACF'):\n",
    "    # The confidence intervals are returned by the functions as (lower, upper)\n",
    "    # The plotting function needs them in the form (x-lower, upper-x)\n",
    "    errorbars = np.ndarray((2, len(X_acf)))\n",
    "    errorbars[0, :] = X_acf - X_acf_confs[:,0]\n",
    "    errorbars[1, :] = X_acf_confs[:,1] - X_acf\n",
    "\n",
    "    plt.plot(X_acf, 'ro')\n",
    "    plt.errorbar(range(len(X_acf)), X_acf, yerr=errorbars, fmt='none', ecolor='gray', capthick=2)\n",
    "    plt.xlabel('Lag')\n",
    "    plt.ylabel('Autocorrelation')\n",
    "    plt.title(title);\n",
    "    \n",
    "# We have to set a confidence level for our intervals, we choose the standard of 95%,\n",
    "# corresponding with an alpha of 0.05.\n",
    "X_acf, X_acf_confs = acf(X, nlags=nlags, alpha=0.05)\n",
    "X_pacf, X_pacf_confs = pacf(X, nlags=nlags, alpha=0.05)\n",
    "#plot_acf(X_acf, X_acf_confs)\n",
    "plt.figure()\n",
    "plot_acf(X_acf, X_acf_confs, title='ACF')\n",
    "plt.figure()\n",
    "plot_acf(X_pacf, X_pacf_confs, title='PACF')"
   ]
  },
  {
   "cell_type": "markdown",
   "metadata": {},
   "source": [
    "From the graphs above it is clear that the Autocorrelation function is declines geometricallly with increase in lag.\n",
    "The Partial Autocorrelation function ins significant only for the first two lags.\n",
    "This indicates that the time series is strongly inclined towrds an Autoregressive model rather than a Moving avarage. \n",
    "It also indicates that the order of the Autoregrssive model is 2. \n",
    "\n",
    "An autoregressive model and a Moving Average model are then built to test this hypothesis. If it is correct the autoregressive model will have less mean squared error.\n"
   ]
  },
  {
   "cell_type": "code",
   "execution_count": 98,
   "metadata": {},
   "outputs": [
    {
     "name": "stdout",
     "output_type": "stream",
     "text": [
      "Test MSE: 68.507\n"
     ]
    }
   ],
   "source": [
    "#rolling predictions_AR\n",
    "size = int(len(X) * 0.66)\n",
    "train, test = X[0:size], X[size:len(X)]\n",
    "history = [x for x in train]\n",
    "predictions_AR = list()\n",
    "for t in range(len(test)):\n",
    "    model = ARIMA(history, order = (5,0,0))\n",
    "    model_fit_AR = model.fit(disp = False)\n",
    "    output = model_fit_AR.forecast()\n",
    "    yhat = output[0]\n",
    "    predictions_AR.append(yhat)\n",
    "    obs = test[t]\n",
    "    history.append(obs)\n",
    "    #print('predicted=%f, expected=%f' % (yhat, obs))\n",
    "error = mean_squared_error(test, predictions_AR)\n",
    "print('Test MSE: %.3f' % error)"
   ]
  },
  {
   "cell_type": "code",
   "execution_count": 99,
   "metadata": {},
   "outputs": [
    {
     "name": "stderr",
     "output_type": "stream",
     "text": [
      "C:\\Users\\Olaoluwapo\\Anaconda3\\lib\\site-packages\\statsmodels\\base\\model.py:496: ConvergenceWarning: Maximum Likelihood optimization failed to converge. Check mle_retvals\n",
      "  \"Check mle_retvals\", ConvergenceWarning)\n"
     ]
    },
    {
     "name": "stdout",
     "output_type": "stream",
     "text": [
      "Test MSE: 204.109\n"
     ]
    }
   ],
   "source": [
    "#rolling predictions_MA\n",
    "size = int(len(X) * 0.66)\n",
    "train, test = X[0:size], X[size:len(X)]\n",
    "history = [x for x in train]\n",
    "predictions_MA = list()\n",
    "for t in range(len(test)):\n",
    "    model = ARIMA(history, order = (0,0,5))\n",
    "    model_fit_MA = model.fit(disp = False)\n",
    "    output = model_fit_MA.forecast()\n",
    "    yhat = output[0]\n",
    "    predictions_MA.append(yhat)\n",
    "    obs = test[t]\n",
    "    history.append(obs)\n",
    "    #print('predicted=%f, expected=%f' % (yhat, obs))\n",
    "error = mean_squared_error(test, predictions_MA)\n",
    "print('Test MSE: %.3f' % error)"
   ]
  },
  {
   "cell_type": "markdown",
   "metadata": {},
   "source": [
    "The mean squared error of the AR model is 19.582 while that of the MA model is 348.206. This difference is significant. \n",
    "Thus, it confirms that for the sample being observed, the underlying time series process is more inclined towards an\n",
    "Autoregressive process than a Moving Average Process. \n",
    " \n",
    "The code block below show a statistical analysis of the results of fitting bothe models to the time series data"
   ]
  },
  {
   "cell_type": "code",
   "execution_count": 100,
   "metadata": {},
   "outputs": [
    {
     "name": "stdout",
     "output_type": "stream",
     "text": [
      "                              ARMA Model Results                              \n",
      "==============================================================================\n",
      "Dep. Variable:                      y   No. Observations:                  599\n",
      "Model:                     ARMA(5, 0)   Log Likelihood               -2270.535\n",
      "Method:                       css-mle   S.D. of innovations             10.681\n",
      "Date:                Sat, 18 Aug 2018   AIC                           4555.070\n",
      "Time:                        11:34:39   BIC                           4585.837\n",
      "Sample:                             0   HQIC                          4567.048\n",
      "                                                                              \n",
      "==============================================================================\n",
      "                 coef    std err          z      P>|z|      [0.025      0.975]\n",
      "------------------------------------------------------------------------------\n",
      "const         66.6561     33.746      1.975      0.049       0.515     132.797\n",
      "ar.L1.y        0.8894      0.041     21.807      0.000       0.809       0.969\n",
      "ar.L2.y        0.1332      0.054      2.449      0.015       0.027       0.240\n",
      "ar.L3.y       -0.1303      0.054     -2.397      0.017      -0.237      -0.024\n",
      "ar.L4.y        0.1224      0.054      2.253      0.025       0.016       0.229\n",
      "ar.L5.y       -0.0260      0.041     -0.639      0.523      -0.106       0.054\n",
      "                                    Roots                                    \n",
      "=============================================================================\n",
      "                 Real           Imaginary           Modulus         Frequency\n",
      "-----------------------------------------------------------------------------\n",
      "AR.1            1.0101           -0.0000j            1.0101           -0.0000\n",
      "AR.2           -1.7221           -0.0000j            1.7221           -0.5000\n",
      "AR.3            0.6363           -2.2193j            2.3088           -0.2056\n",
      "AR.4            0.6363           +2.2193j            2.3088            0.2056\n",
      "AR.5            4.1449           -0.0000j            4.1449           -0.0000\n",
      "-----------------------------------------------------------------------------\n"
     ]
    }
   ],
   "source": [
    "print(model_fit_AR.summary())"
   ]
  },
  {
   "cell_type": "code",
   "execution_count": 101,
   "metadata": {},
   "outputs": [
    {
     "name": "stdout",
     "output_type": "stream",
     "text": [
      "                              ARMA Model Results                              \n",
      "==============================================================================\n",
      "Dep. Variable:                      y   No. Observations:                  599\n",
      "Model:                     ARMA(0, 5)   Log Likelihood               -2499.555\n",
      "Method:                       css-mle   S.D. of innovations             15.651\n",
      "Date:                Sat, 18 Aug 2018   AIC                           5013.110\n",
      "Time:                        11:34:39   BIC                           5043.877\n",
      "Sample:                             0   HQIC                          5025.088\n",
      "                                                                              \n",
      "==============================================================================\n",
      "                 coef    std err          z      P>|z|      [0.025      0.975]\n",
      "------------------------------------------------------------------------------\n",
      "const         78.6193      4.398     17.877      0.000      70.000      87.239\n",
      "ma.L1.y        1.2916      0.035     36.788      0.000       1.223       1.360\n",
      "ma.L2.y        1.6403      0.051     32.389      0.000       1.541       1.740\n",
      "ma.L3.y        1.4449      0.052     28.049      0.000       1.344       1.546\n",
      "ma.L4.y        0.9940      0.040     24.833      0.000       0.916       1.072\n",
      "ma.L5.y        0.5318      0.047     11.241      0.000       0.439       0.625\n",
      "                                    Roots                                    \n",
      "=============================================================================\n",
      "                 Real           Imaginary           Modulus         Frequency\n",
      "-----------------------------------------------------------------------------\n",
      "MA.1            0.2445           -1.0658j            1.0935           -0.2141\n",
      "MA.2            0.2445           +1.0658j            1.0935            0.2141\n",
      "MA.3           -1.2227           -0.0000j            1.2227           -0.5000\n",
      "MA.4           -0.5677           -0.9817j            1.1340           -0.3334\n",
      "MA.5           -0.5677           +0.9817j            1.1340            0.3334\n",
      "-----------------------------------------------------------------------------\n"
     ]
    }
   ],
   "source": [
    "print(model_fit_MA.summary())"
   ]
  },
  {
   "cell_type": "markdown",
   "metadata": {},
   "source": [
    "A plot illustrates the difference in accuracy between the AR model and the MA model. The AR model's prediction closely\n",
    "follows the results from the actual data generating process, while the MA process loosely follows it."
   ]
  },
  {
   "cell_type": "code",
   "execution_count": 102,
   "metadata": {},
   "outputs": [
    {
     "data": {
      "text/plain": [
       "<matplotlib.text.Text at 0x2b0af020128>"
      ]
     },
     "execution_count": 102,
     "metadata": {},
     "output_type": "execute_result"
    },
    {
     "data": {
      "image/png": "[encoded data removed]",
      "text/plain": [
       "<matplotlib.figure.Figure at 0x2b0adb55f98>"
      ]
     },
     "metadata": {},
     "output_type": "display_data"
    }
   ],
   "source": [
    "# plot\n",
    "plt.plot(range(len(test)),test)\n",
    "plt.plot(range(len(test)),predictions_AR, color='green')\n",
    "plt.plot(range(len(test)),predictions_MA, color='red')\n",
    "plt.legend(['Actual', 'AR model', 'MA model'])\n",
    "plt.ylabel('price')\n",
    "plt.xlabel('days')"
   ]
  },
  {
   "cell_type": "markdown",
   "metadata": {},
   "source": [
    "A simple trading startegy is developed to test the feasibility of this model for trding purposes. The trading \n",
    "algorithm simply buys when the current price is below the AR prediction (undervalued) for the next day and sells \n",
    "when it is above (overvalued). The algo holds a position for a single day and then re-evaluates for the next day. If the AR prediction and the price are the same, the algorithm does nothing.\n",
    "Transactions costs, stop loss orders, bet sizing, and other factors have not been considered. "
   ]
  },
  {
   "cell_type": "code",
   "execution_count": 103,
   "metadata": {},
   "outputs": [],
   "source": [
    "# the trade\n",
    "profit = np.zeros(len(test)-1)\n",
    "for i in range(1,len(test)):\n",
    "    if predictions_AR[i] > test[i-1]:\n",
    "        profit[i-1] = 1 * (test[i]-test[i-1])/test[i-1]\n",
    "    if predictions_AR[i] < test[i-1]:\n",
    "        profit[i-1] = -1 * (test[i]-test[i-1])/test[i-1]\n",
    "    if predictions_AR[i] == test[i-1]:\n",
    "        profit[i-1] = 0\n",
    "\n",
    "profit;"
   ]
  },
  {
   "cell_type": "markdown",
   "metadata": {},
   "source": [
    "A plot is made to visualize the returns from trading this strategy. Despite the predictive power of the AR model \n",
    "(low mean squared error), the trading algorithm loses money. I hypothesize that this is because a good prediction infers\n",
    "one that is close to the actual value. It does not define whether it is greater than or less than this value. It simply \n",
    "implies that it is close. In this case, although predictions are close to the actual value, they repeatedly miss the mark \n",
    "in terms of direction. For exmaple,let's say the current price of LTC is 10. Model A's (random name) prediction of tomorrow's price is 11, while model B's prediction is 4. If the tomorrow's price ends up being 9, model A's squared error will be 2 x 2 = 4, while model B's will be 5 x 5 = 25. Clearly, model A is a better predictor of price. \n",
    "But a trading algorithm that works by taking a position based on the relative price will have gone long based on model A's prediction, and short based on model B's prediction. Algo A will have lost 2 (11 - 9 = 2) on the trade while ALgo B will have made 1 (10 - 9 = 1) on the trade. Thus ALgo B has the upper hand in such a trade.\n",
    "\n",
    "In this case, my hypothesis that the AR model often misses the direction of the nect day's move even though it comes very close to the actual price can be tested by calculating the corrrelation coefficient between the actual change in price and the change in price predicted by the AR model. This is done below:"
   ]
  },
  {
   "cell_type": "code",
   "execution_count": 104,
   "metadata": {},
   "outputs": [
    {
     "data": {
      "text/plain": [
       "<matplotlib.text.Text at 0x2b0af03f7b8>"
      ]
     },
     "execution_count": 104,
     "metadata": {},
     "output_type": "execute_result"
    },
    {
     "data": {
      "image/png": "[encoded data removed]",
      "text/plain": [
       "<matplotlib.figure.Figure at 0x2b0adb4ee10>"
      ]
     },
     "metadata": {},
     "output_type": "display_data"
    }
   ],
   "source": [
    "#plt.plot(np.cumsum(profit))\n",
    "plt.plot((np.cumprod(profit+1)-1)*1000)\n",
    "plt.legend(['returns'])\n",
    "plt.xlabel('days')\n",
    "plt.ylabel('returns on $1000')\n",
    "plt.title('cumulative returns from AR model trading startegy')"
   ]
  },
  {
   "cell_type": "code",
   "execution_count": 107,
   "metadata": {},
   "outputs": [
    {
     "name": "stdout",
     "output_type": "stream",
     "text": [
      "(203,)\n",
      "(203,)\n"
     ]
    },
    {
     "data": {
      "text/plain": [
       "array([[ 1.        , -0.14373236],\n",
       "       [-0.14373236,  1.        ]])"
      ]
     },
     "execution_count": 107,
     "metadata": {},
     "output_type": "execute_result"
    }
   ],
   "source": [
    "len(predictions_AR)\n",
    "len(test)\n",
    "np.array(predictions_AR)\n",
    "for i in range(len(predictions_AR)):\n",
    "    predictions_AR[i] = predictions_AR[i][0]\n",
    "    \n",
    "len(predictions_AR)\n",
    "\n",
    "predicted_change= predictions_AR[1:] - test[:-1]\n",
    "predicted_change = predicted_change[:]\n",
    "predicted_change = np.array(predicted_change)\n",
    "print(predicted_change.shape)\n",
    "\n",
    "actual_change = np.array(test[1:]) - np.array(test[:-1])\n",
    "actual_change = actual_change[:]\n",
    "actual_change = np.array(actual_change)\n",
    "print(actual_change.shape)\n",
    "\n",
    "np.corrcoef(predicted_change,actual_change)"
   ]
  },
  {
   "cell_type": "markdown",
   "metadata": {},
   "source": [
    "The correlation co-efficient of the predicted change and the actual change is merely 0.23. This means that it is weakly \n",
    "correlated and thus explains the poor performance of the trading strategy."
   ]
  },
  {
   "cell_type": "markdown",
   "metadata": {},
   "source": [
    "# Alternative Model - Linear Classifiers\n",
    "\n",
    "In this section I aim to develop an alternative model to outperform the AR model by utilising hsitorical pricing data from other cryptocurrencies as well as LTC. 20 additional crypto-currencies have been added to the fold for this purpose. Their prices will be backdated by a single day to avoid look-ahead bias. LTC past pricing data is also utilised as a feature. For each crypto-currency, only the previous day's pricing data is used to predict the current day's price of LTC. \n",
    "\n",
    "Two linear classifiers are used to test this: A logistic regression classifier and a Support Vector Classifier. \n",
    "Classifiers are used as opposed to numerical regression because classifiers can be better trained to predict the direction\n",
    "of change in price. Since the trading strategy does not have a target 'take profit price', there is no advantage to getting a numerical figure for the predicted change in price.\n",
    "\n",
    "In this code block, the pricing data of the predictors (features) is backdated by a day to avoid look-ahead bias.\n",
    "The target variable is discretised to {-1,0,1} corresponding to {decrease, none, increase} movement in price.\n",
    "\n"
   ]
  },
  {
   "cell_type": "code",
   "execution_count": 283,
   "metadata": {},
   "outputs": [
    {
     "name": "stdout",
     "output_type": "stream",
     "text": [
      "1048\n",
      "1048\n",
      "1048\n"
     ]
    },
    {
     "data": {
      "text/html": [
       "<div>\n",
       "<style>\n",
       "    .dataframe thead tr:only-child th {\n",
       "        text-align: right;\n",
       "    }\n",
       "\n",
       "    .dataframe thead th {\n",
       "        text-align: left;\n",
       "    }\n",
       "\n",
       "    .dataframe tbody tr th {\n",
       "        vertical-align: top;\n",
       "    }\n",
       "</style>\n",
       "<table border=\"1\" class=\"dataframe\">\n",
       "  <thead>\n",
       "    <tr style=\"text-align: right;\">\n",
       "      <th></th>\n",
       "      <th>0</th>\n",
       "      <th>1</th>\n",
       "      <th>2</th>\n",
       "      <th>3</th>\n",
       "      <th>4</th>\n",
       "      <th>5</th>\n",
       "      <th>6</th>\n",
       "      <th>7</th>\n",
       "      <th>8</th>\n",
       "      <th>9</th>\n",
       "      <th>...</th>\n",
       "      <th>1</th>\n",
       "      <th>2</th>\n",
       "      <th>3</th>\n",
       "      <th>4</th>\n",
       "      <th>5</th>\n",
       "      <th>6</th>\n",
       "      <th>7</th>\n",
       "      <th>8</th>\n",
       "      <th>9</th>\n",
       "      <th>10</th>\n",
       "    </tr>\n",
       "  </thead>\n",
       "  <tbody>\n",
       "    <tr>\n",
       "      <th>0</th>\n",
       "      <td>0.000000</td>\n",
       "      <td>0.000000</td>\n",
       "      <td>0.000000</td>\n",
       "      <td>0.000000</td>\n",
       "      <td>0.000000</td>\n",
       "      <td>0.000000</td>\n",
       "      <td>0.000000</td>\n",
       "      <td>0.000000</td>\n",
       "      <td>0.000000</td>\n",
       "      <td>0.000000</td>\n",
       "      <td>...</td>\n",
       "      <td>0.002139</td>\n",
       "      <td>0.106977</td>\n",
       "      <td>0.000000</td>\n",
       "      <td>0.283784</td>\n",
       "      <td>0.013605</td>\n",
       "      <td>0.024390</td>\n",
       "      <td>0.127689</td>\n",
       "      <td>0.024598</td>\n",
       "      <td>0.024985</td>\n",
       "      <td>0.000000</td>\n",
       "    </tr>\n",
       "    <tr>\n",
       "      <th>1</th>\n",
       "      <td>0.012478</td>\n",
       "      <td>0.002139</td>\n",
       "      <td>0.106977</td>\n",
       "      <td>0.000000</td>\n",
       "      <td>0.283784</td>\n",
       "      <td>0.013605</td>\n",
       "      <td>0.024390</td>\n",
       "      <td>0.127689</td>\n",
       "      <td>0.024598</td>\n",
       "      <td>0.024985</td>\n",
       "      <td>...</td>\n",
       "      <td>-0.014940</td>\n",
       "      <td>0.008403</td>\n",
       "      <td>0.006423</td>\n",
       "      <td>-0.035088</td>\n",
       "      <td>0.010067</td>\n",
       "      <td>-0.003704</td>\n",
       "      <td>-0.189538</td>\n",
       "      <td>-0.012927</td>\n",
       "      <td>-0.012940</td>\n",
       "      <td>-0.000832</td>\n",
       "    </tr>\n",
       "    <tr>\n",
       "      <th>2</th>\n",
       "      <td>0.009567</td>\n",
       "      <td>-0.014940</td>\n",
       "      <td>0.008403</td>\n",
       "      <td>0.006423</td>\n",
       "      <td>-0.035088</td>\n",
       "      <td>0.010067</td>\n",
       "      <td>-0.003704</td>\n",
       "      <td>-0.189538</td>\n",
       "      <td>-0.012927</td>\n",
       "      <td>-0.012940</td>\n",
       "      <td>...</td>\n",
       "      <td>0.000000</td>\n",
       "      <td>-0.004167</td>\n",
       "      <td>-0.033699</td>\n",
       "      <td>-0.072727</td>\n",
       "      <td>-0.003322</td>\n",
       "      <td>0.008497</td>\n",
       "      <td>0.000759</td>\n",
       "      <td>-0.001871</td>\n",
       "      <td>0.477744</td>\n",
       "      <td>0.001665</td>\n",
       "    </tr>\n",
       "    <tr>\n",
       "      <th>3</th>\n",
       "      <td>-0.000331</td>\n",
       "      <td>0.000000</td>\n",
       "      <td>-0.004167</td>\n",
       "      <td>-0.033699</td>\n",
       "      <td>-0.072727</td>\n",
       "      <td>-0.003322</td>\n",
       "      <td>0.008497</td>\n",
       "      <td>0.000759</td>\n",
       "      <td>-0.001871</td>\n",
       "      <td>0.477744</td>\n",
       "      <td>...</td>\n",
       "      <td>-0.049833</td>\n",
       "      <td>-0.029289</td>\n",
       "      <td>0.000000</td>\n",
       "      <td>-0.019608</td>\n",
       "      <td>0.010000</td>\n",
       "      <td>0.022643</td>\n",
       "      <td>-0.227618</td>\n",
       "      <td>0.006560</td>\n",
       "      <td>0.005983</td>\n",
       "      <td>-0.042394</td>\n",
       "    </tr>\n",
       "    <tr>\n",
       "      <th>4</th>\n",
       "      <td>-0.000952</td>\n",
       "      <td>-0.049833</td>\n",
       "      <td>-0.029289</td>\n",
       "      <td>0.000000</td>\n",
       "      <td>-0.019608</td>\n",
       "      <td>0.010000</td>\n",
       "      <td>0.022643</td>\n",
       "      <td>-0.227618</td>\n",
       "      <td>0.006560</td>\n",
       "      <td>0.005983</td>\n",
       "      <td>...</td>\n",
       "      <td>0.114015</td>\n",
       "      <td>0.000000</td>\n",
       "      <td>0.000000</td>\n",
       "      <td>0.008800</td>\n",
       "      <td>0.006601</td>\n",
       "      <td>0.007209</td>\n",
       "      <td>0.113949</td>\n",
       "      <td>0.005587</td>\n",
       "      <td>0.005332</td>\n",
       "      <td>0.020833</td>\n",
       "    </tr>\n",
       "  </tbody>\n",
       "</table>\n",
       "<p>5 rows × 22 columns</p>\n",
       "</div>"
      ],
      "text/plain": [
       "         0         1         2         3         4         5         6   \\\n",
       "0  0.000000  0.000000  0.000000  0.000000  0.000000  0.000000  0.000000   \n",
       "1  0.012478  0.002139  0.106977  0.000000  0.283784  0.013605  0.024390   \n",
       "2  0.009567 -0.014940  0.008403  0.006423 -0.035088  0.010067 -0.003704   \n",
       "3 -0.000331  0.000000 -0.004167 -0.033699 -0.072727 -0.003322  0.008497   \n",
       "4 -0.000952 -0.049833 -0.029289  0.000000 -0.019608  0.010000  0.022643   \n",
       "\n",
       "         7         8         9     ...           1         2         3   \\\n",
       "0  0.000000  0.000000  0.000000    ...     0.002139  0.106977  0.000000   \n",
       "1  0.127689  0.024598  0.024985    ...    -0.014940  0.008403  0.006423   \n",
       "2 -0.189538 -0.012927 -0.012940    ...     0.000000 -0.004167 -0.033699   \n",
       "3  0.000759 -0.001871  0.477744    ...    -0.049833 -0.029289  0.000000   \n",
       "4 -0.227618  0.006560  0.005983    ...     0.114015  0.000000  0.000000   \n",
       "\n",
       "         4         5         6         7         8         9         10  \n",
       "0  0.283784  0.013605  0.024390  0.127689  0.024598  0.024985  0.000000  \n",
       "1 -0.035088  0.010067 -0.003704 -0.189538 -0.012927 -0.012940 -0.000832  \n",
       "2 -0.072727 -0.003322  0.008497  0.000759 -0.001871  0.477744  0.001665  \n",
       "3 -0.019608  0.010000  0.022643 -0.227618  0.006560  0.005983 -0.042394  \n",
       "4  0.008800  0.006601  0.007209  0.113949  0.005587  0.005332  0.020833  \n",
       "\n",
       "[5 rows x 22 columns]"
      ]
     },
     "execution_count": 283,
     "metadata": {},
     "output_type": "execute_result"
    }
   ],
   "source": [
    "\n",
    "features_1 = df2 [['BTC', 'ETH', 'DASH', 'XMR', 'XRP', 'LTC', \n",
    "        'MAID', 'FCT', 'DGD', \n",
    "         'DCR', 'DOGE']].pct_change().dropna()[:-2].values\n",
    "print(len(features_1))\n",
    "\n",
    "features_2 = df2 [['BTC', 'ETH', 'DASH', 'XMR', 'XRP', 'LTC', \n",
    "        'MAID', 'FCT', 'DGD', \n",
    "         'DCR', 'DOGE']].pct_change().dropna()[1:-1].values\n",
    "print(len(features_2))\n",
    "\n",
    "\n",
    "features_1 = pd.DataFrame(features_1)\n",
    "features_2 = pd.DataFrame(features_2)\n",
    "\n",
    "features =  pd.concat([features_1, features_2], axis=1)\n",
    "\n",
    "LTC = df2['LTC'].pct_change()[1:].dropna()[2:]\n",
    "target = [1  if i > 0 else -1 for i in LTC]\n",
    "print(len(target))\n",
    "features.head()\n"
   ]
  },
  {
   "cell_type": "markdown",
   "metadata": {},
   "source": [
    "The data is trained and tested on with a Linear Regression model\n",
    "This gives a 52.43 percent accuracy. This is marginally better than random and very likely to be statistically insignificantly\n",
    "different from random. The confusion matrix shows that it predicts \n"
   ]
  },
  {
   "cell_type": "code",
   "execution_count": 284,
   "metadata": {},
   "outputs": [
    {
     "name": "stdout",
     "output_type": "stream",
     "text": [
      "the confusion matrix: \n",
      " [[ 18 152]\n",
      " [ 14 171]]\n",
      "\n",
      "the proportion of correct predictions: 53.2394 percent\n"
     ]
    }
   ],
   "source": [
    "from sklearn.linear_model import LogisticRegression\n",
    "from sklearn.metrics import confusion_matrix\n",
    "\n",
    "size = int(len(X) * 0.66)\n",
    "train_f, test_f = features[0:size], features[size:len(X)]\n",
    "train_t, test_t = target[0:size], target[size:len(X)]\n",
    "\n",
    "model_LR = LogisticRegression()\n",
    "model_LR.fit(train_f, train_t)\n",
    "predictions = model_LR.predict(test_f)\n",
    "predictions = list(predictions)\n",
    "#print(predictions)\n",
    "#print(test_t)\n",
    "\n",
    "\n",
    "conf = confusion_matrix(test_t, predictions)\n",
    "conf_sum = np.sum(np.sum(conf, axis= 1))\n",
    "perc_correct = (conf[0,0] + conf[1,1])/ conf_sum\n",
    "\n",
    "print('the confusion matrix: \\n {}' .format(conf))\n",
    "print('\\nthe proportion of correct predictions: %.4f percent'%(perc_correct * 100))"
   ]
  },
  {
   "cell_type": "markdown",
   "metadata": {},
   "source": [
    "The data is trained and tested on with a Suppor Vector Classifier model\n",
    "This gives a 40.77 percent accuracy. This is marginally worse than random and very likely to be statistically insignificantly\n",
    "different from random. The confusion matrix shows that it predicts all returns to be positive (There is a name for \n",
    "this kind of trivial behaviour by a classifier but I cant remember right now). This is probably due to a predominance of \n",
    "positive returns in the training data.\n"
   ]
  },
  {
   "cell_type": "code",
   "execution_count": 285,
   "metadata": {},
   "outputs": [
    {
     "name": "stdout",
     "output_type": "stream",
     "text": [
      "the confusion matrix: \n",
      " [[  0 170]\n",
      " [  0 185]]\n",
      "\n",
      "the proportion of correct predictions: 52.1127 percent\n"
     ]
    }
   ],
   "source": [
    "from sklearn.svm import SVC\n",
    "from sklearn.metrics import confusion_matrix\n",
    "\n",
    "size = int(len(X) * 0.66)\n",
    "train_f, test_f = features[0:size], features[size:len(X)]\n",
    "train_t, test_t = target[0:size], target[size:len(X)]\n",
    "\n",
    "model_SVC = SVC()\n",
    "model_SVC.fit(train_f, train_t)\n",
    "predictions_SVC = model_SVC.predict(test_f)\n",
    "predictions_SVC = list(predictions_SVC)\n",
    "#print(predictions_SVC)\n",
    "#print(test_t)\n",
    "\n",
    "conf = confusion_matrix(test_t, predictions_SVC)\n",
    "conf_sum = np.sum(np.sum(conf, axis= 1))\n",
    "perc_correct = (conf[0,0] + conf[1,1])/ conf_sum\n",
    "\n",
    "print('the confusion matrix: \\n {}' .format(conf))\n",
    "print('\\nthe proportion of correct predictions: %.4f percent'%(perc_correct * 100))"
   ]
  },
  {
   "cell_type": "markdown",
   "metadata": {},
   "source": [
    "In order to improve on the model, a PCA reduction with whitening is carried out on the features. This reduces the \n",
    "dimensionality of the data and thus prevents unwanted properties such a multicollinearity. A simple way to think of this\n",
    "is that it combines correlated features in order to produce a single one that accounts for them. In essence, I have reduced the dimensionality of the features from 21 to 15 while retainig most of the information available in the 21 and also making the odel less prone to errors caused by having redundant features. \n",
    "\n",
    "\n",
    "The application of PCA reduction prior to applying a Logistic Regression Classifier has significantly improved its performance.Now it has an accuracy rate of 70 percent and a more balanced confusion matrix (indicating less bias towards aparticular class in the model's decisions)\n",
    "\n",
    "Note: The choice of 15 components was settled on after some manual local search optimization (trial and error). Although this could actually be optimised via convex optimization, brute force search, or visually."
   ]
  },
  {
   "cell_type": "code",
   "execution_count": 291,
   "metadata": {},
   "outputs": [
    {
     "name": "stdout",
     "output_type": "stream",
     "text": [
      "the confusion matrix: \n",
      " [[ 20 150]\n",
      " [ 14 171]]\n",
      "\n",
      "the proportion of correct predictions: 53.8028 percent\n"
     ]
    }
   ],
   "source": [
    "from sklearn.decomposition import PCA\n",
    "from sklearn.pipeline import Pipeline\n",
    "import sklearn.pipeline\n",
    "\n",
    "size = int(len(X) * 0.66)\n",
    "train_f, test_f = features[0:size], features[size:len(X)]\n",
    "train_t, test_t = target[0:size], target[size:len(X)]\n",
    "\n",
    "pipe = Pipeline([('pca', PCA(n_components=15, whiten=True)),\n",
    "                      ('regr',LogisticRegression())])\n",
    "\n",
    "pipe.fit(train_f, train_t)\n",
    "predictions_pipe_LR = pipe.predict(test_f)\n",
    "conf = confusion_matrix(test_t, predictions_pipe_LR)\n",
    "conf_sum = np.sum(np.sum(conf, axis= 1))\n",
    "perc_correct = (conf[0,0] + conf[1,1])/ conf_sum\n",
    "print('the confusion matrix: \\n {}' .format(conf))\n",
    "print('\\nthe proportion of correct predictions: %.4f percent'%(perc_correct * 100))"
   ]
  },
  {
   "cell_type": "markdown",
   "metadata": {},
   "source": [
    "Similar to the results of the PCA-LogisticRegresion model, the application of PCA reduction prior to applying a Suppoert Vector Classifier has significantly improved its performance.Now it has an accuracy rate of 70 percent and a much more balanced confusion matrix (eliminating the bias towards the positve class notice previously)\n",
    "\n",
    "Observation:- The results of the LR and SVC model seem very similar for this test sample"
   ]
  },
  {
   "cell_type": "code",
   "execution_count": 292,
   "metadata": {},
   "outputs": [
    {
     "name": "stdout",
     "output_type": "stream",
     "text": [
      "the confusion matrix: \n",
      " [[  2 168]\n",
      " [  2 183]]\n",
      "\n",
      "the proportion of correct predictions: 52.1127 percent\n"
     ]
    }
   ],
   "source": [
    "from sklearn.decomposition import PCA\n",
    "from sklearn.pipeline import Pipeline\n",
    "import sklearn.pipeline\n",
    "\n",
    "size = int(len(X) * 0.66)\n",
    "train_f, test_f = features[0:size], features[size:len(X)]\n",
    "train_t, test_t = target[0:size], target[size:len(X)]\n",
    "\n",
    "pipe = Pipeline([('pca', PCA(n_components=15, whiten=True)),\n",
    "                      ('regr',SVC())])\n",
    "\n",
    "pipe.fit(train_f, train_t)\n",
    "predictions_pipe_SVC = pipe.predict(test_f)\n",
    "conf = confusion_matrix(test_t, predictions_pipe_SVC)\n",
    "conf_sum = np.sum(np.sum(conf, axis= 1))\n",
    "perc_correct = (conf[0,0] + conf[1,1])/ conf_sum\n",
    "print('the confusion matrix: \\n {}' .format(conf))\n",
    "print('\\nthe proportion of correct predictions: %.4f percent'%(perc_correct * 100))\n"
   ]
  },
  {
   "cell_type": "markdown",
   "metadata": {},
   "source": [
    "The same traidng strategy is constructed for the PCA-LR and PCA-SVC models as used with the AR model. The only difference is that this is coded up in a vecotrised manner as it was most convenient since the classes {-1, 0, 1} also represent the next day decision {sell, none, buy}. \n",
    "\n",
    "The returns of bothe strategies are plotted below.\n",
    "\n",
    "Note: The AR trading stategy could have been coded in a vectrised manner but wasn't for transparency sake."
   ]
  },
  {
   "cell_type": "code",
   "execution_count": 237,
   "metadata": {
    "collapsed": true
   },
   "outputs": [],
   "source": [
    "profit_LR = predictions_pipe_LR * LTC[size:len(X)]\n",
    "profit_SVC = predictions_pipe_SVC * LTC[size:len(X)]"
   ]
  },
  {
   "cell_type": "code",
   "execution_count": 238,
   "metadata": {},
   "outputs": [
    {
     "data": {
      "text/plain": [
       "<matplotlib.text.Text at 0x2b0af0b0dd8>"
      ]
     },
     "execution_count": 238,
     "metadata": {},
     "output_type": "execute_result"
    },
    {
     "data": {
      "image/png": "[encoded data removed]",
      "text/plain": [
       "<matplotlib.figure.Figure at 0x2b0b1ff5668>"
      ]
     },
     "metadata": {},
     "output_type": "display_data"
    }
   ],
   "source": [
    "plt.plot((np.cumprod(profit_LR+1)-1)*1000)\n",
    "plt.plot((np.cumprod(profit_SVC+1)-1)*1000)\n",
    "plt.legend(['Logistic Regression', 'SVC'])\n",
    "plt.title('returns from classification after PCA reduction with whitening')\n",
    "plt.xlabel('dates')\n",
    "plt.ylabel('returns assuming $1000 invested')"
   ]
  },
  {
   "cell_type": "markdown",
   "metadata": {},
   "source": [
    "The results show that both strategies are profitable but do not give the exact same trades. The value at risk of the strategies have been compyted below. They are probably inaccurate as the distributuons are not normal as shown in the poor fit to the normal distribution corresponding to their mean and standard deviation respectively."
   ]
  },
  {
   "cell_type": "code",
   "execution_count": 140,
   "metadata": {},
   "outputs": [
    {
     "name": "stdout",
     "output_type": "stream",
     "text": [
      "the expected daily return is: 0.0055\n",
      "the standard deviation measured daily is: 0.0590\n",
      "the 95-pct confidence daily Value-at-Risk is: -0.1124\n"
     ]
    },
    {
     "data": {
      "text/plain": [
       "[<matplotlib.lines.Line2D at 0x2b0b0de1cc0>]"
      ]
     },
     "execution_count": 140,
     "metadata": {},
     "output_type": "execute_result"
    },
    {
     "data": {
      "image/png": "[encoded data removed]",
      "text/plain": [
       "<matplotlib.figure.Figure at 0x2b0b0cfa5f8>"
      ]
     },
     "metadata": {},
     "output_type": "display_data"
    }
   ],
   "source": [
    "count, bins,_= plt.hist(profit_LR)\n",
    "mu = profit_LR .mean(axis = 0)\n",
    "sigma = profit_LR.std(axis = 0)\n",
    "\n",
    "var95 = (mu - 2* sigma)\n",
    "#print(type(mu))\n",
    "\n",
    "print('the expected daily return is: %.4f'%(mu))\n",
    "print('the standard deviation measured daily is: %.4f'%(sigma))\n",
    "print('the 95-pct confidence daily Value-at-Risk is: %.4f'%(var95))\n",
    "\n",
    "plt.plot(bins, 1/(sigma * np.sqrt(2 * np.pi)) * np.exp( - (bins - mu)**2 / (2 * sigma**2) ), linewidth=2, color='r')\n"
   ]
  },
  {
   "cell_type": "code",
   "execution_count": 158,
   "metadata": {},
   "outputs": [
    {
     "name": "stdout",
     "output_type": "stream",
     "text": [
      "the expected daily return is: 0.0110\n",
      "the standard deviation measured daily is: 0.0582\n",
      "the 95-pct confidence daily Value-at-Risk is: -0.1055\n"
     ]
    },
    {
     "data": {
      "text/plain": [
       "[<matplotlib.lines.Line2D at 0x2b0b0f96c88>]"
      ]
     },
     "execution_count": 158,
     "metadata": {},
     "output_type": "execute_result"
    },
    {
     "data": {
      "image/png": "[encoded data removed]",
      "text/plain": [
       "<matplotlib.figure.Figure at 0x2b0b0f47240>"
      ]
     },
     "metadata": {},
     "output_type": "display_data"
    }
   ],
   "source": [
    "count, bins,_= plt.hist(profit_SVC)\n",
    "mu = profit_SVC .mean(axis = 0)\n",
    "sigma = profit_SVC.std(axis = 0)\n",
    "\n",
    "var95 = (mu - 2* sigma)\n",
    "#print(type(mu))\n",
    "\n",
    "print('the expected daily return is: %.4f'%(mu))\n",
    "print('the standard deviation measured daily is: %.4f'%(sigma))\n",
    "print('the 95-pct confidence daily Value-at-Risk is: %.4f'%(var95))\n",
    "\n",
    "plt.plot(bins, 1/(sigma * np.sqrt(2 * np.pi)) * np.exp( - (bins - mu)**2 / (2 * sigma**2) ), linewidth=2, color='r')\n"
   ]
  },
  {
   "cell_type": "markdown",
   "metadata": {},
   "source": [
    "# Suggestions for improvement\n",
    "1. Test predictive power on larger sample space\n",
    "2. Use bagging to make up for small sample space and reduce over fitting\n",
    "3. Try more classifiers e.g random forests, etc\n",
    "4. Try VAR and VEC time series models on a basket of crypto currencies\n",
    "5. Remove young crypto-currencies so as to enlarge the sample space for more robust testing\n",
    "6. Try more diverse trading strategies e.g longer holding period, stop loss, take profit, etc\n",
    "7. Include considerations of (6) in training the ML model and not just in implementing the trading strategy\n",
    "8. Meta-Strategy Ensemble: Use one ML model to predict when trading strategy will be accurate or not\n",
    "9. Include sentiment data e.g twitter, news, etc for target coin\n",
    "10. Consider bet sizing by probabilities derived by classifiers\n",
    "11. Include transactions cost\n",
    "12. Many more than I am willing to type in. Use your creativity. But use it with caution\n",
    "13. Get someone to check for reproducibility"
   ]
  },
  {
   "cell_type": "code",
   "execution_count": null,
   "metadata": {
    "collapsed": true
   },
   "outputs": [],
   "source": []
  },
  {
   "cell_type": "code",
   "execution_count": null,
   "metadata": {
    "collapsed": true
   },
   "outputs": [],
   "source": []
  },
  {
   "cell_type": "code",
   "execution_count": null,
   "metadata": {
    "collapsed": true
   },
   "outputs": [],
   "source": []
  },
  {
   "cell_type": "code",
   "execution_count": null,
   "metadata": {
    "collapsed": true
   },
   "outputs": [],
   "source": []
  }
 ],
 "metadata": {
  "kernelspec": {
   "display_name": "Python 3",
   "language": "python",
   "name": "python3"
  },
  "language_info": {
   "codemirror_mode": {
    "name": "ipython",
    "version": 3
   },
   "file_extension": ".py",
   "mimetype": "text/x-python",
   "name": "python",
   "nbconvert_exporter": "python",
   "pygments_lexer": "ipython3",
   "version": "3.6.3"
  }
 },
 "nbformat": 4,
 "nbformat_minor": 2
}
